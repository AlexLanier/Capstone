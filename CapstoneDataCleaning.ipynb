{
 "cells": [
  {
   "cell_type": "code",
   "execution_count": 34,
   "id": "8021cf2f",
   "metadata": {},
   "outputs": [],
   "source": [
    "import pandas as pd\n",
    "import glob\n",
    "from googletrans import Translator\n",
    "from google_trans_new import google_translator  \n",
    "import emoji\n",
    "import re\n",
    "import nltk\n",
    "from nltk.stem import WordNetLemmatizer\n",
    "from nltk.corpus import wordnet"
   ]
  },
  {
   "cell_type": "code",
   "execution_count": 2,
   "id": "da185d38",
   "metadata": {},
   "outputs": [],
   "source": [
    "directory = 'targeted'\n",
    "pd.set_option('display.max_colwidth', None)\n",
    "#pd.set_option('display.max_rows', None)  # Show all rows\n",
    "#pd.set_option('display.max_columns', None)"
   ]
  },
  {
   "cell_type": "code",
   "execution_count": 11,
   "id": "9dc0d45e",
   "metadata": {},
   "outputs": [],
   "source": [
    "#attempting to test for one spreadsheet to determine run time on singular translation output\n",
    "\n",
    "t = Translator()\n",
    "\n",
    "translations = []\n",
    "test_file = glob.glob(directory + \"/targeted.xlsx\")\n",
    "test_list = []\n",
    "for file in test_file:\n",
    "    df = pd.read_excel(file, sheet_name='Tweets')\n",
    "    test_list.append(df)\n",
    "\n",
    "\n",
    "# Concatenate the DataFrames in test_list into a single DataFrame\n",
    "combined_df = pd.concat(test_list, axis=0, ignore_index=True)\n",
    "\n",
    "for text in combined_df['Tweet']:\n",
    "    eng = str(0)\n",
    "    if not text.isascii():\n",
    "        eng = str(1)\n",
    "        translations.append(eng)\n",
    "    else:\n",
    "        translations.append(eng)\n",
    "# Add the translations to a new column in the DataFrame\n",
    "combined_df.drop(['Binders', 'Tweet value', 'Likes count', 'Retweet count'], axis = 1)\n",
    "\n",
    "combined_df['Translated_Tweet'] = translations\n"
   ]
  },
  {
   "cell_type": "code",
   "execution_count": 12,
   "id": "61c6a1a2",
   "metadata": {},
   "outputs": [],
   "source": [
    "combined_df = combined_df.drop(['Binders', 'Tweet value', 'Likes count', 'Retweet count'], axis = 1)"
   ]
  },
  {
   "cell_type": "code",
   "execution_count": 35,
   "id": "b828aba7",
   "metadata": {},
   "outputs": [
    {
     "name": "stderr",
     "output_type": "stream",
     "text": [
      "[nltk_data] Downloading package wordnet to\n",
      "[nltk_data]     C:\\Users\\giann\\AppData\\Roaming\\nltk_data...\n",
      "[nltk_data]   Package wordnet is already up-to-date!\n",
      "[nltk_data] Downloading package averaged_perceptron_tagger to\n",
      "[nltk_data]     C:\\Users\\giann\\AppData\\Roaming\\nltk_data...\n",
      "[nltk_data]   Package averaged_perceptron_tagger is already up-to-\n",
      "[nltk_data]       date!\n"
     ]
    },
    {
     "data": {
      "text/plain": [
       "True"
      ]
     },
     "execution_count": 35,
     "metadata": {},
     "output_type": "execute_result"
    }
   ],
   "source": [
    "nltk.download('wordnet')\n",
    "#nltk.download()\n",
    "wnl = WordNetLemmatizer()\n",
    "nltk.download('averaged_perceptron_tagger')\n"
   ]
  },
  {
   "cell_type": "code",
   "execution_count": 30,
   "id": "d7b157d1",
   "metadata": {},
   "outputs": [
    {
     "name": "stderr",
     "output_type": "stream",
     "text": [
      "C:\\Users\\giann\\AppData\\Local\\Temp/ipykernel_145228/354268053.py:8: SettingWithCopyWarning: \n",
      "A value is trying to be set on a copy of a slice from a DataFrame\n",
      "\n",
      "See the caveats in the documentation: https://pandas.pydata.org/pandas-docs/stable/user_guide/indexing.html#returning-a-view-versus-a-copy\n",
      "  tweet_df['lemmatized_column'] = combined_df['Tweet'].apply(lambda x: lemmatize_text(x))\n"
     ]
    },
    {
     "data": {
      "text/plain": [
       "0                     RT @ VeengasJ : A video of yesterday incident # Hafeezbaloch and his family were targeted by security agency . Citizen captured the incident . A video explained everything how they are treating Baloch and ruling party either in federal government or Sindh government both are silent . http : //t.co/oOCU2B3Ra4\n",
       "1                               RT @ Concern70732755 : If a well regarded medium source openly condemns Trudeau ’ s planned targeted suppression & amp ; covert censorship that also provides content control who doesn ’ t our MSM make any comment ? Enough said -truth & amp ; objectivity are already lost ! ! http : //t.co/If5gNYCIqQ\n",
       "2                                                       RT @ _LibertyLady : “ Eunice Dwumfour , a 30-year-old New Jersey councilwoman , wa found dead outside her Sayreville home Wednesday evening in what official believe wa a “ targeted ” attack , authority say. ” Why isn ’ t # JusticeForEunice trending ? http : //t.co/3uUPEhYQ0j\n",
       "3       RT @ VeengasJ : Saeeda Zehri narrated how security agency targeted and attacked her uncle Hafeez Zehri , mother and family member who went to Karachi Central Jail for the release of Hafeez . She show bloodstained on her shawl how family member were attacked . `` What doe state want , '' she asks . http : //t.co/MPwnURGH2k\n",
       "4                                                                                                          RT @ J2MTargeted : We all die eventually I rather die with integrity It 's hard but I do love my enemy Nothing is more important than family We a a community Need to have unity Life is n't simple Being a # TargetedIndividual\n",
       "                                                                                                                                                                       ...                                                                                                                                                                 \n",
       "9995        RT @ Joshuajered : BREAKING : New Jersey Republican Councilwoman Eunice Dwumfour wa assassinated outside her home . This wa the scene overnight in Sayreville where her white SUV crashed after gunshot rang out . Police say it appears she wa targeted and are still searching for several suspect . http : //t.co/O01Scjcmpm\n",
       "9996                                                                                                                                                                                                              So a presidential candidate assumed a policy for over 200m people wa targeted at him , God how on earth did we get here ?\n",
       "9997                                                  RT @ MCStanOfficial_ : Stan wa the best performer in yesterday ’ s task 🏆 NO CAP They targeted him the most , bhot yedi chaalein ki but APPA Ek inch nai hilum spot se . HAQ HAI STANNY KO # MCStan𓃵 # BBKingMCStan no one deserves to pick the trophy like this guy doe # biggboss16\n",
       "9998                                                                Ilhan Omar start playing “ Muslim ” victim card for her ouster over Anti-Israel comment . They just want to stay relevant for all the wrong reason . “ I 'm a Muslim . I 'm an immigrant . Is anyone surprised that I 'm being targeted ? I 'm an American ” , she said\n",
       "9999                               RT @ VirkSh786 : Since past day there have been a lot of propaganda regarding “ day spent in jail ” by PMLN . They have targeted Fawad , Gill , Swati but never mentioned that they were taken to jail for frivolous case , while PMLN went for corruption charge . And they have not seen any torture .\n",
       "Name: Tweet, Length: 10000, dtype: object"
      ]
     },
     "execution_count": 30,
     "metadata": {},
     "output_type": "execute_result"
    }
   ],
   "source": [
    "#BASIC LEMMATIZATION: only reduces plurals down to singular form\n",
    "tweet_df = combined_df['Tweet']\n",
    "\n",
    "def lemmatize_text(text):\n",
    "    tokens = nltk.word_tokenize(text)\n",
    "    lemmatized_tokens = [wnl.lemmatize(word) for word in tokens]\n",
    "    return ' '.join(lemmatized_tokens)\n",
    "\n",
    "tweet_df['lemmatized_column'] = combined_df['Tweet'].apply(lambda x: lemmatize_text(x))\n",
    "\n",
    "tweet_df['lemmatized_column']\n",
    "\n",
    "# EXAMPLE FOR A SINGLE STRING: APPLY THIS TO THE TWEET COLUMN OF THE DATAFRAME\n",
    "# string = 'the cat is sitting with the bats on the striped mat under many flying geese'\n",
    " \n",
    "# # Converting String into tokens\n",
    "# list2 = nltk.word_tokenize(string)\n",
    "# print(list2)\n",
    "# #> ['the', 'cat', 'is', 'sitting', 'with', 'the', 'bats', 'on',\n",
    "# #   'the', 'striped', 'mat', 'under', 'many', 'flying', 'geese']\n",
    " \n",
    "# lemmatized_string = ' '.join([wnl.lemmatize(words) for words in list2])\n",
    " \n",
    "# print(lemmatized_string)\n"
   ]
  },
  {
   "cell_type": "code",
   "execution_count": 36,
   "id": "46f30846",
   "metadata": {},
   "outputs": [
    {
     "data": {
      "text/plain": [
       "0                                                                                                                                                                                                                                                                                                                                                                                                                                                                                                                                                                                                                                                                                                                                                                                                                                                                                                                                                                                                                                                                                                                                                                                                                                                                                                                                                                                                                                                                                                                                                                                                                                                                                                                                                                                                                                                                                                                                                                                                                                                                                                                                                                                                                                                                                                                                                                                                                                                                                                                                                                                                                                                                                                                                                                                                                                                                                                                                                                                                                                                                                                                                                                                                                                                                                                                                                                                                                                                                                                                                                      RT @VeengasJ: A video of yesterday incident #Hafeezbaloch and his family were targeted by security agencies.\\nCitizen captured the incident. A video explained everything how they are treating Baloch and ruling parties either in federal government or Sindh government both are silent. https://t.co/oOCU2B3Ra4\n",
       "1                                                                                                                                                                                                                                                                                                                                                                                                                                                                                                                                                                                                                                                                                                                                                                                                                                                                                                                                                                                                                                                                                                                                                                                                                                                                                                                                                                                                                                                                                                                                                                                                                                                                                                                                                                                                                                                                                                                                                                                                                                                                                                                                                                                                                                                                                                                                                                                                                                                                                                                                                                                                                                                                                                                                                                                                                                                                                                                                                                                                                                                                                                                                                                                                                                                                                                                                                                                                                                                                                                                                                                        RT @Concern70732755: If a well regarded media source openly condemns Trudeau’s planned targeted suppression &amp; covert censorship that also provides content control who doesn’t our MSM make any comments ? \\nEnough said -truth &amp; objectivity are already lost !! https://t.co/If5gNYCIqQ\n",
       "2                                                                                                                                                                                                                                                                                                                                                                                                                                                                                                                                                                                                                                                                                                                                                                                                                                                                                                                                                                                                                                                                                                                                                                                                                                                                                                                                                                                                                                                                                                                                                                                                                                                                                                                                                                                                                                                                                                                                                                                                                                                                                                                                                                                                                                                                                                                                                                                                                                                                                                                                                                                                                                                                                                                                                                                                                                                                                                                                                                                                                                                                                                                                                                                                                                                                                                                                                                                                                                                                                                                                                                                       RT @_LibertyLady: “Eunice Dwumfour, a 30-year-old New Jersey councilwoman, was found dead outside her Sayreville home Wednesday evening in what officials believe was a “targeted” attack, authorities say.” \\n\\nWhy isn’t #JusticeForEunice trending? \\n\\nhttps://t.co/3uUPEhYQ0j\n",
       "3                                                                                                                                                                                                                                                                                                                                                                                                                                                                                                                                                                                                                                                                                                                                                                                                                                                                                                                                                                                                                                                                                                                                                                                                                                                                                                                                                                                                                                                                                                                                                                                                                                                                                                                                                                                                                                                                                                                                                                                                                                                                                                                                                                                                                                                                                                                                                                                                                                                                                                                                                                                                                                                                                                                                                                                                                                                                                                                                                                                                                                                                                                                                                                                                                                                                                                                                                                                                                                                                                                                                          RT @VeengasJ: Saeeda Zehri narrated how security agencies targeted and attacked her uncle Hafeez Zehri, mother and family members who went to Karachi Central Jail for the release of Hafeez.\\nShe shows bloodstained on her shawl how family members were attacked.\\n\"What does state want,\" she asks. https://t.co/MPwnURGH2k\n",
       "4                                                                                                                                                                                                                                                                                                                                                                                                                                                                                                                                                                                                                                                                                                                                                                                                                                                                                                                                                                                                                                                                                                                                                                                                                                                                                                                                                                                                                                                                                                                                                                                                                                                                                                                                                                                                                                                                                                                                                                                                                                                                                                                                                                                                                                                                                                                                                                                                                                                                                                                                                                                                                                                                                                                                                                                                                                                                                                                                                                                                                                                                                                                                                                                                                                                                                                                                                                                                                                                                                                                                                                                                                                    RT @J2MTargeted: We all die eventually\\nI rather die with integrity\\nIt's hard but I do love my enemies\\nNothing is more important than family\\nWe as a community\\nNeed to have unity\\nLife isn't simple\\nBeing a #TargetedIndividual\n",
       "                                                                                                                                                                                                                                                                                                                                                                                                                                                                                                                                                                                                                                                                                                                                                                                                                                                                                                                                                                                                                                                                                                                                                                                                                                                                                                                                                                                                                                                                                                                                                                                                                                                                                                                                                                                                                                                                                                                                                 ...                                                                                                                                                                                                                                                                                                                                                                                                                                                                                                                                                                                                                                                                                                                                                                                                                                                                                                                                                                                                                                                                                                                                                                                                                                                                                                                                                                                                                                                                                                                                                                                                                                                                                                                                                                                                                                                                                                                      \n",
       "9997                                                                                                                                                                                                                                                                                                                                                                                                                                                                                                                                                                                                                                                                                                                                                                                                                                                                                                                                                                                                                                                                                                                                                                                                                                                                                                                                                                                                                                                                                                                                                                                                                                                                                                                                                                                                                                                                                                                                                                                                                                                                                                                                                                                                                                                                                                                                                                                                                                                                                                                                                                                                                                                                                                                                                                                                                                                                                                                                                                                                                                                                                                                                                                                                                                                                                                                                                                                                                                                                                                                                                                                      RT @MCStanOfficial_: Stan was the best performer in yesterday’s task 🏆 NO CAP \\nThey targeted him the most, bhot yedi chaalein ki but APPA Ek inch nai hila spot se. HAQ HAI STANNY KO #MCStan𓃵 #BBKingMCStan  no one deserves to pick the trophy like this guy does #biggboss16\n",
       "9998                                                                                                                                                                                                                                                                                                                                                                                                                                                                                                                                                                                                                                                                                                                                                                                                                                                                                                                                                                                                                                                                                                                                                                                                                                                                                                                                                                                                                                                                                                                                                                                                                                                                                                                                                                                                                                                                                                                                                                                                                                                                                                                                                                                                                                                                                                                                                                                                                                                                                                                                                                                                                                                                                                                                                                                                                                                                                                                                                                                                                                                                                                                                                                                                                                                                                                                                                                                                                                                                                                                                                                                                    Ilhan Omar starts playing “Muslim” victim card for her ouster over Anti-Israel comments.\\n\\nThey just want to stay relevant for all the wrong reasons.\\n\\n“I'm a Muslim. I'm an immigrant. Is anyone surprised that I'm being targeted? I'm an American”, she said\n",
       "9999                                                                                                                                                                                                                                                                                                                                                                                                                                                                                                                                                                                                                                                                                                                                                                                                                                                                                                                                                                                                                                                                                                                                                                                                                                                                                                                                                                                                                                                                                                                                                                                                                                                                                                                                                                                                                                                                                                                                                                                                                                                                                                                                                                                                                                                                                                                                                                                                                                                                                                                                                                                                                                                                                                                                                                                                                                                                                                                                                                                                                                                                                                                                                                                                                                                                                                                                                                                                                                                                                                                                                                RT @VirkSh786: Since past days there have been a lot of propaganda regarding “days spent in jails” by PMLN.\\n\\nThey have targeted Fawad, Gill, Swati but never mentioned that they were taken to jail for frivolous cases, while PMLN went for corruption charges. And they have not seen any torture.\n",
       "lemmatized_column            0                     RT @ VeengasJ : A video of yesterday incident # Hafeezbaloch and his family were targeted by security agency . Citizen captured the incident . A video explained everything how they are treating Baloch and ruling party either in federal government or Sindh government both are silent . http : //t.co/oOCU2B3Ra4\n",
       "1                               RT @ Concern70732755 : If a well regarded medium source openly condemns Trudeau ’ s planned targeted suppression & amp ; covert censorship that also provides content control who doesn ’ t our MSM make any comment ? Enough said -truth & amp ; objectivity are already lost ! ! http : //t.co/If5gNYCIqQ\n",
       "2                                                       RT @ _LibertyLady : “ Eunice Dwumfour , a 30-year-old New Jersey councilwoman , wa found dead outside her Sayreville home Wednesday evening in what official believe wa a “ targeted ” attack , authority say. ” Why isn ’ t # JusticeForEunice trending ? http : //t.co/3uUPEhYQ0j\n",
       "3       RT @ VeengasJ : Saeeda Zehri narrated how security agency targeted and attacked her uncle Hafeez Zehri , mother and family member who went to Karachi Central Jail for the release of Hafeez . She show bloodstained on her shawl how family member were attacked . `` What doe state want , '' she asks . http : //t.co/MPwnURGH2k\n",
       "4                                                                                                          RT @ J2MTargeted : We all die eventually I rather die with integrity It 's hard but I do love my enemy Nothing is more important than family We a a community Need to have unity Life is n't simple Being a # TargetedIndividual\n",
       "                                                                                                                                                                       ...                                                                                                                                                                 \n",
       "9995        RT @ Joshuajered : BREAKING : New Jersey Republican Councilwoman Eunice Dwumfour wa assassinated outside her home . This wa the scene overnight in Sayreville where her white SUV crashed after gunshot rang out . Police say it appears she wa targeted and are still searching for several suspect . http : //t.co/O01Scjcmpm\n",
       "9996                                                                                                                                                                                                              So a presidential candidate assumed a policy for over 200m people wa targeted at him , God how on earth did we get here ?\n",
       "9997                                                  RT @ MCStanOfficial_ : Stan wa the best performer in yesterday ’ s task 🏆 NO CAP They targeted him the most , bhot yedi chaalein ki but APPA Ek inch nai hilum spot se . HAQ HAI STANNY KO # MCStan𓃵 # BBKingMCStan no one deserves to pick the trophy like this guy doe # biggboss16\n",
       "9998                                                                Ilhan Omar start playing “ Muslim ” victim card for her ouster over Anti-Israel comment . They just want to stay relevant for all the wrong reason . “ I 'm a Muslim . I 'm an immigrant . Is anyone surprised that I 'm being targeted ? I 'm an American ” , she said\n",
       "9999                               RT @ VirkSh786 : Since past day there have been a lot of propaganda regarding “ day spent in jail ” by PMLN . They have targeted Fawad , Gill , Swati but never mentioned that they were taken to jail for frivolous case , while PMLN went for corruption charge . And they have not seen any torture .\n",
       "Name: Tweet, Length: 10000, dtype: object\n",
       "complex_lemmatized_column                                                                                                                                                   0                      RT @ VeengasJ : A video of yesterday incident # Hafeezbaloch and his family be target by security agency . Citizen capture the incident . A video explain everything how they be treat Baloch and rule party either in federal government or Sindh government both be silent . http : //t.co/oOCU2B3Ra4\n",
       "1                           RT @ Concern70732755 : If a well regarded medium source openly condemn Trudeau ’ s plan target suppression & amp ; covert censorship that also provide content control who doesn ’ t our MSM make any comment ? Enough say -truth & amp ; objectivity be already lose ! ! http : //t.co/If5gNYCIqQ\n",
       "2                                                RT @ _LibertyLady : “ Eunice Dwumfour , a 30-year-old New Jersey councilwoman , be find dead outside her Sayreville home Wednesday evening in what official believe be a “ target ” attack , authority say. ” Why isn ’ t # JusticeForEunice trend ? http : //t.co/3uUPEhYQ0j\n",
       "3       RT @ VeengasJ : Saeeda Zehri narrate how security agency target and attack her uncle Hafeez Zehri , mother and family member who go to Karachi Central Jail for the release of Hafeez . She show bloodstained on her shawl how family member be attack . `` What do state want , '' she ask . http : //t.co/MPwnURGH2k\n",
       "4                                                                                            RT @ J2MTargeted : We all die eventually I rather die with integrity It 's hard but I do love my enemy Nothing be more important than family We as a community Need to have unity Life be n't simple Being a # TargetedIndividual\n",
       "                                                                                                                                                                 ...                                                                                                                                                          \n",
       "9995     RT @ Joshuajered : BREAKING : New Jersey Republican Councilwoman Eunice Dwumfour be assassinate outside her home . This be the scene overnight in Sayreville where her white SUV crash after gunshot ring out . Police say it appear she be target and be still search for several suspect . http : //t.co/O01Scjcmpm\n",
       "9996                                                                                                                                                                                                     So a presidential candidate assume a policy for over 200m people be target at him , God how on earth do we get here ?\n",
       "9997                                          RT @ MCStanOfficial_ : Stan be the best performer in yesterday ’ s task 🏆 NO CAP They target him the most , bhot yedi chaalein ki but APPA Ek inch nai hila spot se . HAQ HAI STANNY KO # MCStan𓃵 # BBKingMCStan no one deserve to pick the trophy like this guy do # biggboss16\n",
       "9998                                                             Ilhan Omar start play “ Muslim ” victim card for her ouster over Anti-Israel comment . They just want to stay relevant for all the wrong reason . “ I 'm a Muslim . I 'm an immigrant . Is anyone surprise that I 'm be target ? I 'm an American ” , she say\n",
       "9999                                 RT @ VirkSh786 : Since past day there have be a lot of propaganda regard “ day spend in jail ” by PMLN . They have target Fawad , Gill , Swati but never mention that they be take to jail for frivolous case , while PMLN go for corruption charge . And they have not see any torture .\n",
       "Name: Tweet, Length: 10000, dtype: object\n",
       "Name: Tweet, Length: 10002, dtype: object"
      ]
     },
     "execution_count": 36,
     "metadata": {},
     "output_type": "execute_result"
    }
   ],
   "source": [
    "lemmatizer = WordNetLemmatizer()\n",
    "\n",
    "def lemmatize_with_pos_tag(sentence):\n",
    "    def pos_tagger(nltk_tag):\n",
    "        if nltk_tag.startswith('J'):\n",
    "            return wordnet.ADJ\n",
    "        elif nltk_tag.startswith('V'):\n",
    "            return wordnet.VERB\n",
    "        elif nltk_tag.startswith('N'):\n",
    "            return wordnet.NOUN\n",
    "        elif nltk_tag.startswith('R'):\n",
    "            return wordnet.ADV\n",
    "        else:\n",
    "            return None\n",
    "\n",
    "    pos_tagged = nltk.pos_tag(nltk.word_tokenize(sentence))\n",
    "\n",
    "    wordnet_tagged = [(word, pos_tagger(tag)) for word, tag in pos_tagged]\n",
    "\n",
    "    lemmatized_tokens = []\n",
    "    for word, tag in wordnet_tagged:\n",
    "        if tag is None:\n",
    "            # if there is no available tag, append the token as is\n",
    "            lemmatized_tokens.append(word)\n",
    "        else:\n",
    "            # else use the tag to lemmatize the token\n",
    "            lemmatized_tokens.append(lemmatizer.lemmatize(word, tag))\n",
    "    \n",
    "    lemmatized_sentence = \" \".join(lemmatized_tokens)\n",
    "    return lemmatized_sentence\n",
    "\n",
    "tweet_df['complex_lemmatized_column'] = combined_df['Tweet'].apply(lambda x: lemmatize_with_pos_tag(x))\n",
    "\n",
    "tweet_df"
   ]
  },
  {
   "cell_type": "code",
   "execution_count": 37,
   "id": "a678ac75",
   "metadata": {},
   "outputs": [
    {
     "data": {
      "text/plain": [
       "0                      RT @ VeengasJ : A video of yesterday incident # Hafeezbaloch and his family be target by security agency . Citizen capture the incident . A video explain everything how they be treat Baloch and rule party either in federal government or Sindh government both be silent . http : //t.co/oOCU2B3Ra4\n",
       "1                           RT @ Concern70732755 : If a well regarded medium source openly condemn Trudeau ’ s plan target suppression & amp ; covert censorship that also provide content control who doesn ’ t our MSM make any comment ? Enough say -truth & amp ; objectivity be already lose ! ! http : //t.co/If5gNYCIqQ\n",
       "2                                                RT @ _LibertyLady : “ Eunice Dwumfour , a 30-year-old New Jersey councilwoman , be find dead outside her Sayreville home Wednesday evening in what official believe be a “ target ” attack , authority say. ” Why isn ’ t # JusticeForEunice trend ? http : //t.co/3uUPEhYQ0j\n",
       "3       RT @ VeengasJ : Saeeda Zehri narrate how security agency target and attack her uncle Hafeez Zehri , mother and family member who go to Karachi Central Jail for the release of Hafeez . She show bloodstained on her shawl how family member be attack . `` What do state want , '' she ask . http : //t.co/MPwnURGH2k\n",
       "4                                                                                            RT @ J2MTargeted : We all die eventually I rather die with integrity It 's hard but I do love my enemy Nothing be more important than family We as a community Need to have unity Life be n't simple Being a # TargetedIndividual\n",
       "                                                                                                                                                                 ...                                                                                                                                                          \n",
       "9995     RT @ Joshuajered : BREAKING : New Jersey Republican Councilwoman Eunice Dwumfour be assassinate outside her home . This be the scene overnight in Sayreville where her white SUV crash after gunshot ring out . Police say it appear she be target and be still search for several suspect . http : //t.co/O01Scjcmpm\n",
       "9996                                                                                                                                                                                                     So a presidential candidate assume a policy for over 200m people be target at him , God how on earth do we get here ?\n",
       "9997                                          RT @ MCStanOfficial_ : Stan be the best performer in yesterday ’ s task 🏆 NO CAP They target him the most , bhot yedi chaalein ki but APPA Ek inch nai hila spot se . HAQ HAI STANNY KO # MCStan𓃵 # BBKingMCStan no one deserve to pick the trophy like this guy do # biggboss16\n",
       "9998                                                             Ilhan Omar start play “ Muslim ” victim card for her ouster over Anti-Israel comment . They just want to stay relevant for all the wrong reason . “ I 'm a Muslim . I 'm an immigrant . Is anyone surprise that I 'm be target ? I 'm an American ” , she say\n",
       "9999                                 RT @ VirkSh786 : Since past day there have be a lot of propaganda regard “ day spend in jail ” by PMLN . They have target Fawad , Gill , Swati but never mention that they be take to jail for frivolous case , while PMLN go for corruption charge . And they have not see any torture .\n",
       "Name: Tweet, Length: 10000, dtype: object"
      ]
     },
     "execution_count": 37,
     "metadata": {},
     "output_type": "execute_result"
    }
   ],
   "source": [
    "tweet_df['complex_lemmatized_column']"
   ]
  },
  {
   "cell_type": "code",
   "execution_count": 18,
   "id": "e8ca843b",
   "metadata": {},
   "outputs": [],
   "source": [
    "# Create a boolean mask by applying the condition to the 'Tweet' column\n",
    "import time\n",
    "\n",
    "\n",
    "mask = combined_df['Translated_Tweet'].str.contains('1', case=False)\n",
    "\n",
    "# Use the mask to filter rows that match the condition\n",
    "filtered_rows = combined_df[mask]\n",
    "\n",
    "# Display the filtered DataFrame\n",
    "df = pd.DataFrame(filtered_rows, columns = ['User',\t'Username',\t'UTC Date',\t'Tweet'\t,'Binders',\t'Permalink',\t'Retweet count',\t'Likes count',\t'Tweet value',\t'Translated_Tweet'])\n",
    "\n",
    "t = Translator()\n",
    "\n",
    "translations = []\n",
    "\n",
    "# Iterate through the 'Tweet' column and translate non-ASCII texts\n",
    "for text in df['Tweet']:\n",
    "    try:\n",
    "        translated_text = t.translate(text, dest='en').text\n",
    "        #print(translated_text)\n",
    "        translations.append(translated_text)\n",
    "        time.sleep(1)\n",
    "        #print(translations)\n",
    "    except Exception as e:\n",
    "        print(f\"Error translating: {e}\")\n",
    "\n",
    "# Add the translations to a new column in the DataFrame\n",
    "df['Translated'] = translations\n"
   ]
  },
  {
   "cell_type": "code",
   "execution_count": null,
   "id": "9207ff87",
   "metadata": {},
   "outputs": [],
   "source": [
    "combined_df"
   ]
  },
  {
   "cell_type": "code",
   "execution_count": null,
   "id": "c08c333c",
   "metadata": {},
   "outputs": [],
   "source": []
  },
  {
   "cell_type": "code",
   "execution_count": null,
   "id": "053be918",
   "metadata": {},
   "outputs": [],
   "source": [
    "combined_df.iloc[12, :]"
   ]
  },
  {
   "cell_type": "code",
   "execution_count": null,
   "id": "f6229678",
   "metadata": {},
   "outputs": [],
   "source": [
    "#merges all targeted files into one dataframe \n",
    "\n",
    "count = 0\n",
    "\n",
    "file_list = glob.glob(directory + \"/*.xlsx\")\n",
    "\n",
    "excl_list = []\n",
    "for file in file_list:\n",
    "    excl_list.append(pd.read_excel(str(file), sheet_name = 'Tweets'))\n",
    "    #print(str(file))\n",
    "excl_merged = pd.concat(excl_list, ignore_index=True)"
   ]
  },
  {
   "cell_type": "code",
   "execution_count": null,
   "id": "202de948",
   "metadata": {
    "scrolled": true
   },
   "outputs": [],
   "source": [
    "#drops unnecessary columns \n",
    "\n",
    "\n",
    "excl_merged.drop(['Binders', 'Tweet value', 'Likes count', 'Retweet count'], axis = 1)\n"
   ]
  },
  {
   "cell_type": "code",
   "execution_count": null,
   "id": "a1c5e1dc",
   "metadata": {
    "scrolled": true
   },
   "outputs": [],
   "source": [
    "#excl_merged['Tweet']\n",
    "\n",
    "t = Translator()\n",
    "\n",
    "translations = []\n",
    "\n",
    "# Iterate through the 'Tweet' column and translate non-ASCII texts\n",
    "for text in excl_merged['Tweet']:\n",
    "    if emoji.analyze(text) == False or not text.isascii() :\n",
    "        try:\n",
    "            translated_text = t.translate(text, dest='en').text\n",
    "            #print(translated_text)\n",
    "            translations.append(translated_text)\n",
    "            print(translations)\n",
    "        except Exception as e:\n",
    "            print(f\"Error translating: {e}\")\n",
    "\n",
    "# Add the translations to a new column in the DataFrame\n",
    "excl_merged['Translated_Tweet'] = translations\n",
    "\n",
    "#THIS TAKES TOO LONG NEED TO IMPLEMENT ANOTHER SOLUTION!!!\n",
    "\n"
   ]
  },
  {
   "cell_type": "code",
   "execution_count": null,
   "id": "2377befe",
   "metadata": {},
   "outputs": [],
   "source": [
    "excl_merged['Translated_Tweet']"
   ]
  },
  {
   "cell_type": "code",
   "execution_count": null,
   "id": "03ecca97",
   "metadata": {},
   "outputs": [],
   "source": [
    "excl_merged.to_csv('excl_merged.csv')"
   ]
  },
  {
   "cell_type": "code",
   "execution_count": null,
   "id": "9d627668",
   "metadata": {
    "scrolled": true
   },
   "outputs": [],
   "source": [
    "df = pd.read_csv('excl_merged.csv')\n",
    "df"
   ]
  },
  {
   "cell_type": "code",
   "execution_count": null,
   "id": "8158f62f",
   "metadata": {},
   "outputs": [],
   "source": [
    "df['Tweet']"
   ]
  }
 ],
 "metadata": {
  "kernelspec": {
   "display_name": "base",
   "language": "python",
   "name": "python3"
  },
  "language_info": {
   "codemirror_mode": {
    "name": "ipython",
    "version": 3
   },
   "file_extension": ".py",
   "mimetype": "text/x-python",
   "name": "python",
   "nbconvert_exporter": "python",
   "pygments_lexer": "ipython3",
   "version": "3.9.7"
  }
 },
 "nbformat": 4,
 "nbformat_minor": 5
}
