{
 "cells": [
  {
   "cell_type": "code",
   "execution_count": 172,
   "metadata": {},
   "outputs": [],
   "source": [
    "import pandas as pd\n",
    "from vaderSentiment.vaderSentiment import SentimentIntensityAnalyzer\n",
    "import numpy as np \n",
    "import re\n",
    "import nltk # <--- Package used for NLP\n",
    "import matplotlib.pyplot as plt\n",
    "%matplotlib inline\n",
    "from wordcloud import WordCloud\n",
    "import seaborn as sns\n",
    "from nltk.corpus import stopwords\n",
    "import langid\n",
    "import re\n",
    "from nltk import pos_tag\n",
    "from nltk.corpus import stopwords\n",
    "from nltk.tokenize import word_tokenize\n",
    "from collections import Counter"
   ]
  },
  {
   "cell_type": "code",
   "execution_count": 198,
   "metadata": {},
   "outputs": [],
   "source": [
    "# ASSIGN SENTIMENT TO A SPECIFIED COLUMN OF OUR DATAFRAME\n",
    "def assign_sentiment(df, text_column):\n",
    "    analyzer = SentimentIntensityAnalyzer()\n",
    "\n",
    "    # store sentiment labels\n",
    "    sentiment_labels = []\n",
    "    sentiment_levels = []\n",
    "\n",
    "    # assign sentiment labels\n",
    "    for text in df[text_column]:\n",
    "        sentiment = analyzer.polarity_scores(text)\n",
    "        sentiment_levels.append(sentiment['compound'])         \n",
    "        if sentiment['compound'] >= 0.05:\n",
    "            sentiment_labels.append('positive')\n",
    "        elif sentiment['compound'] <= -0.05:\n",
    "            sentiment_labels.append('negative')\n",
    "        else:\n",
    "            sentiment_labels.append('neutral')\n",
    "\n",
    "    # create a new column of the df with the sentiment labels\n",
    "    df['Sentiment'] = sentiment_labels\n",
    "    df['Sentiment_Level'] = sentiment_levels\n",
    "    return df\n"
   ]
  },
  {
   "cell_type": "code",
   "execution_count": 199,
   "metadata": {},
   "outputs": [],
   "source": [
    "merged_tweets = pd.read_csv(\"merged_df.csv\", low_memory=False)\n",
    "df = assign_sentiment(merged_tweets, 'complex_lemmatized_column')"
   ]
  },
  {
   "cell_type": "code",
   "execution_count": 200,
   "metadata": {},
   "outputs": [],
   "source": [
    "# Add column NegativeRatio which is ratio of negative tweets to all other tweets sent by the same User\n",
    "df['NegativeRatio'] = df.groupby('User')['Sentiment'].transform(lambda x: (x == 'negative').mean())\n",
    "\n",
    "#Number of Tweets Per User\n",
    "df['TweetsCount'] = df.groupby('User')['User'].transform('count')\n",
    "\n",
    "#Average Sentiment Level Per User\n",
    "df['AvgSentimentLevel'] = df.groupby('User')['Sentiment_Level'].transform('mean')"
   ]
  },
  {
   "cell_type": "code",
   "execution_count": 201,
   "metadata": {},
   "outputs": [
    {
     "data": {
      "text/plain": [
       "12.38129909444401"
      ]
     },
     "execution_count": 201,
     "metadata": {},
     "output_type": "execute_result"
    }
   ],
   "source": [
    "#Average Tweets Per User 12.38\n",
    "\n",
    "mean_tweet_count = df['TweetsCount'].mean()\n",
    "mean_tweet_count"
   ]
  },
  {
   "cell_type": "code",
   "execution_count": 202,
   "metadata": {},
   "outputs": [],
   "source": [
    "## Add threat Level Based on NegativeTweet Ratio and AvgSentiment Level of tweets per User\n",
    "threat = []\n",
    "for i in range(len(df['NegativeRatio'])):\n",
    "    if df['NegativeRatio'][i] >= .45 and df['AvgSentimentLevel'][i] <= -0.2:\n",
    "        threat.append(\"Red\")\n",
    "    elif df['NegativeRatio'][i] < .35 and df['AvgSentimentLevel'][i] >= 0.2:\n",
    "        threat.append(\"Green\")\n",
    "    else:\n",
    "        threat.append(\"Yellow\")\n",
    "        \n",
    "df['Threat'] = threat"
   ]
  },
  {
   "cell_type": "code",
   "execution_count": 203,
   "metadata": {},
   "outputs": [
    {
     "data": {
      "text/html": [
       "<div>\n",
       "<style scoped>\n",
       "    .dataframe tbody tr th:only-of-type {\n",
       "        vertical-align: middle;\n",
       "    }\n",
       "\n",
       "    .dataframe tbody tr th {\n",
       "        vertical-align: top;\n",
       "    }\n",
       "\n",
       "    .dataframe thead th {\n",
       "        text-align: right;\n",
       "    }\n",
       "</style>\n",
       "<table border=\"1\" class=\"dataframe\">\n",
       "  <thead>\n",
       "    <tr style=\"text-align: right;\">\n",
       "      <th></th>\n",
       "      <th>User</th>\n",
       "      <th>Username</th>\n",
       "      <th>UTC Date</th>\n",
       "      <th>Tweet</th>\n",
       "      <th>Permalink</th>\n",
       "      <th>Is_English</th>\n",
       "      <th>complex_lemmatized_column</th>\n",
       "      <th>Unnamed: 0</th>\n",
       "      <th>Translated</th>\n",
       "      <th>Sentiment</th>\n",
       "      <th>Sentiment_Level</th>\n",
       "      <th>NegativeRatio</th>\n",
       "      <th>TweetsCount</th>\n",
       "      <th>AvgSentimentLevel</th>\n",
       "      <th>Threat</th>\n",
       "    </tr>\n",
       "  </thead>\n",
       "  <tbody>\n",
       "    <tr>\n",
       "      <th>0</th>\n",
       "      <td>Gary Hill</td>\n",
       "      <td>@hillg367</td>\n",
       "      <td>2023-01-30 19:39:18</td>\n",
       "      <td>RT @davenewworld_2: 4 white supremacists in Wa...</td>\n",
       "      <td>https://www.twitter.com/user/status/1620144641...</td>\n",
       "      <td>1</td>\n",
       "      <td>RT @ davenewworld_2 : 4 white supremacist in W...</td>\n",
       "      <td>NaN</td>\n",
       "      <td>NaN</td>\n",
       "      <td>negative</td>\n",
       "      <td>-0.8860</td>\n",
       "      <td>0.750000</td>\n",
       "      <td>4.0</td>\n",
       "      <td>-0.564225</td>\n",
       "      <td>Red</td>\n",
       "    </tr>\n",
       "    <tr>\n",
       "      <th>1</th>\n",
       "      <td>خالد الشعيبي</td>\n",
       "      <td>@qwe716128968</td>\n",
       "      <td>2023-01-30 19:39:16</td>\n",
       "      <td>The US directly targeted all economic sectors ...</td>\n",
       "      <td>https://www.twitter.com/user/status/1620144636...</td>\n",
       "      <td>1</td>\n",
       "      <td>The US directly target all economic sector in ...</td>\n",
       "      <td>NaN</td>\n",
       "      <td>NaN</td>\n",
       "      <td>negative</td>\n",
       "      <td>-0.0516</td>\n",
       "      <td>0.666667</td>\n",
       "      <td>3.0</td>\n",
       "      <td>-0.289633</td>\n",
       "      <td>Red</td>\n",
       "    </tr>\n",
       "    <tr>\n",
       "      <th>2</th>\n",
       "      <td>ampk.95</td>\n",
       "      <td>@ampk_95</td>\n",
       "      <td>2023-01-30 19:39:16</td>\n",
       "      <td>@mccnshyne @akitoshinonome Not really an otome...</td>\n",
       "      <td>https://www.twitter.com/user/status/1620144635...</td>\n",
       "      <td>1</td>\n",
       "      <td>@ mccnshyne @ akitoshinonome Not really an oto...</td>\n",
       "      <td>NaN</td>\n",
       "      <td>NaN</td>\n",
       "      <td>positive</td>\n",
       "      <td>0.1875</td>\n",
       "      <td>0.000000</td>\n",
       "      <td>1.0</td>\n",
       "      <td>0.187500</td>\n",
       "      <td>Yellow</td>\n",
       "    </tr>\n",
       "    <tr>\n",
       "      <th>3</th>\n",
       "      <td>عبدالله</td>\n",
       "      <td>@bdllh16716948</td>\n",
       "      <td>2023-01-30 19:39:15</td>\n",
       "      <td>Every aspect of life in #Yemen was targeted by...</td>\n",
       "      <td>https://www.twitter.com/user/status/1620144629...</td>\n",
       "      <td>1</td>\n",
       "      <td>Every aspect of life in # Yemen be target by t...</td>\n",
       "      <td>NaN</td>\n",
       "      <td>NaN</td>\n",
       "      <td>neutral</td>\n",
       "      <td>0.0382</td>\n",
       "      <td>0.000000</td>\n",
       "      <td>2.0</td>\n",
       "      <td>0.155700</td>\n",
       "      <td>Yellow</td>\n",
       "    </tr>\n",
       "    <tr>\n",
       "      <th>4</th>\n",
       "      <td>llwry</td>\n",
       "      <td>@LLLwry</td>\n",
       "      <td>2023-01-30 19:39:14</td>\n",
       "      <td>RT @davenewworld_2: 4 white supremacists in Wa...</td>\n",
       "      <td>https://www.twitter.com/user/status/1620144627...</td>\n",
       "      <td>1</td>\n",
       "      <td>RT @ davenewworld_2 : 4 white supremacist in W...</td>\n",
       "      <td>NaN</td>\n",
       "      <td>NaN</td>\n",
       "      <td>negative</td>\n",
       "      <td>-0.8860</td>\n",
       "      <td>0.461538</td>\n",
       "      <td>13.0</td>\n",
       "      <td>0.000477</td>\n",
       "      <td>Yellow</td>\n",
       "    </tr>\n",
       "    <tr>\n",
       "      <th>...</th>\n",
       "      <td>...</td>\n",
       "      <td>...</td>\n",
       "      <td>...</td>\n",
       "      <td>...</td>\n",
       "      <td>...</td>\n",
       "      <td>...</td>\n",
       "      <td>...</td>\n",
       "      <td>...</td>\n",
       "      <td>...</td>\n",
       "      <td>...</td>\n",
       "      <td>...</td>\n",
       "      <td>...</td>\n",
       "      <td>...</td>\n",
       "      <td>...</td>\n",
       "      <td>...</td>\n",
       "    </tr>\n",
       "    <tr>\n",
       "      <th>459854</th>\n",
       "      <td>B V Prasad Reddy</td>\n",
       "      <td>@bvprasadreddy</td>\n",
       "      <td>2023-01-20 01:31:51</td>\n",
       "      <td>నీచులు\\nసమాజంలో\\nచెడు నీచం పెంచడం కోసం,\\nమంచిన...</td>\n",
       "      <td>https://www.twitter.com/user/status/1616247098...</td>\n",
       "      <td>0</td>\n",
       "      <td>The misery In society For raise the bad misera...</td>\n",
       "      <td>458789.0</td>\n",
       "      <td>The miseries\\nIn society\\nFor raising the bad ...</td>\n",
       "      <td>negative</td>\n",
       "      <td>-0.9035</td>\n",
       "      <td>0.666667</td>\n",
       "      <td>6.0</td>\n",
       "      <td>-0.339017</td>\n",
       "      <td>Red</td>\n",
       "    </tr>\n",
       "    <tr>\n",
       "      <th>459855</th>\n",
       "      <td>🐨❤🍯🧸🌸🍡🌈🌟</td>\n",
       "      <td>@eiLoJDaPKooL</td>\n",
       "      <td>2023-01-20 01:23:00</td>\n",
       "      <td>RT @inspoPageant: HIT THE POINT/ \\n\\nในรอบ clo...</td>\n",
       "      <td>https://www.twitter.com/user/status/1616244869...</td>\n",
       "      <td>0</td>\n",
       "      <td>RT @ inspopageant : Hit the Point/ In the Clos...</td>\n",
       "      <td>458852.0</td>\n",
       "      <td>RT @inspopageant: Hit the Point/\\n\\nIn the Clo...</td>\n",
       "      <td>positive</td>\n",
       "      <td>0.5859</td>\n",
       "      <td>0.000000</td>\n",
       "      <td>1.0</td>\n",
       "      <td>0.585900</td>\n",
       "      <td>Green</td>\n",
       "    </tr>\n",
       "    <tr>\n",
       "      <th>459856</th>\n",
       "      <td>prw83</td>\n",
       "      <td>@prw83</td>\n",
       "      <td>2023-01-20 01:13:14</td>\n",
       "      <td>RT @inspoPageant: HIT THE POINT/ \\n\\nในรอบ clo...</td>\n",
       "      <td>https://www.twitter.com/user/status/1616242414...</td>\n",
       "      <td>0</td>\n",
       "      <td>RT @ inspopageant : Hit the Point/ In the Clos...</td>\n",
       "      <td>458938.0</td>\n",
       "      <td>RT @inspopageant: Hit the Point/\\n\\nIn the Clo...</td>\n",
       "      <td>positive</td>\n",
       "      <td>0.5859</td>\n",
       "      <td>0.000000</td>\n",
       "      <td>1.0</td>\n",
       "      <td>0.585900</td>\n",
       "      <td>Green</td>\n",
       "    </tr>\n",
       "    <tr>\n",
       "      <th>459857</th>\n",
       "      <td>อิmnetอิชิบหาย</td>\n",
       "      <td>@ooyopiu</td>\n",
       "      <td>2023-01-20 00:58:27</td>\n",
       "      <td>RT @inspoPageant: HIT THE POINT/ \\n\\nในรอบ clo...</td>\n",
       "      <td>https://www.twitter.com/user/status/1616238693...</td>\n",
       "      <td>0</td>\n",
       "      <td>RT @ inspopageant : Hit the Point/ In the Clos...</td>\n",
       "      <td>459036.0</td>\n",
       "      <td>RT @inspopageant: Hit the Point/\\n\\nIn the Clo...</td>\n",
       "      <td>positive</td>\n",
       "      <td>0.5859</td>\n",
       "      <td>0.000000</td>\n",
       "      <td>1.0</td>\n",
       "      <td>0.585900</td>\n",
       "      <td>Green</td>\n",
       "    </tr>\n",
       "    <tr>\n",
       "      <th>459858</th>\n",
       "      <td>Cuma Dokter Magang</td>\n",
       "      <td>@CumaDokter</td>\n",
       "      <td>2023-01-20 00:51:10</td>\n",
       "      <td>@BuruhPemda Ini gak sekalian nuntut LPDP buka ...</td>\n",
       "      <td>https://www.twitter.com/user/status/1616236859...</td>\n",
       "      <td>0</td>\n",
       "      <td>@ Buruhpemda this do not demand that LPDP open...</td>\n",
       "      <td>459095.0</td>\n",
       "      <td>@Buruhpemda this does not demand that LPDP ope...</td>\n",
       "      <td>positive</td>\n",
       "      <td>0.0951</td>\n",
       "      <td>0.000000</td>\n",
       "      <td>1.0</td>\n",
       "      <td>0.095100</td>\n",
       "      <td>Yellow</td>\n",
       "    </tr>\n",
       "  </tbody>\n",
       "</table>\n",
       "<p>459859 rows × 15 columns</p>\n",
       "</div>"
      ],
      "text/plain": [
       "                      User        Username             UTC Date  \\\n",
       "0                Gary Hill       @hillg367  2023-01-30 19:39:18   \n",
       "1             خالد الشعيبي   @qwe716128968  2023-01-30 19:39:16   \n",
       "2                  ampk.95        @ampk_95  2023-01-30 19:39:16   \n",
       "3                  عبدالله  @bdllh16716948  2023-01-30 19:39:15   \n",
       "4                    llwry         @LLLwry  2023-01-30 19:39:14   \n",
       "...                    ...             ...                  ...   \n",
       "459854    B V Prasad Reddy  @bvprasadreddy  2023-01-20 01:31:51   \n",
       "459855            🐨❤🍯🧸🌸🍡🌈🌟   @eiLoJDaPKooL  2023-01-20 01:23:00   \n",
       "459856               prw83          @prw83  2023-01-20 01:13:14   \n",
       "459857      อิmnetอิชิบหาย        @ooyopiu  2023-01-20 00:58:27   \n",
       "459858  Cuma Dokter Magang     @CumaDokter  2023-01-20 00:51:10   \n",
       "\n",
       "                                                    Tweet  \\\n",
       "0       RT @davenewworld_2: 4 white supremacists in Wa...   \n",
       "1       The US directly targeted all economic sectors ...   \n",
       "2       @mccnshyne @akitoshinonome Not really an otome...   \n",
       "3       Every aspect of life in #Yemen was targeted by...   \n",
       "4       RT @davenewworld_2: 4 white supremacists in Wa...   \n",
       "...                                                   ...   \n",
       "459854  నీచులు\\nసమాజంలో\\nచెడు నీచం పెంచడం కోసం,\\nమంచిన...   \n",
       "459855  RT @inspoPageant: HIT THE POINT/ \\n\\nในรอบ clo...   \n",
       "459856  RT @inspoPageant: HIT THE POINT/ \\n\\nในรอบ clo...   \n",
       "459857  RT @inspoPageant: HIT THE POINT/ \\n\\nในรอบ clo...   \n",
       "459858  @BuruhPemda Ini gak sekalian nuntut LPDP buka ...   \n",
       "\n",
       "                                                Permalink  Is_English  \\\n",
       "0       https://www.twitter.com/user/status/1620144641...           1   \n",
       "1       https://www.twitter.com/user/status/1620144636...           1   \n",
       "2       https://www.twitter.com/user/status/1620144635...           1   \n",
       "3       https://www.twitter.com/user/status/1620144629...           1   \n",
       "4       https://www.twitter.com/user/status/1620144627...           1   \n",
       "...                                                   ...         ...   \n",
       "459854  https://www.twitter.com/user/status/1616247098...           0   \n",
       "459855  https://www.twitter.com/user/status/1616244869...           0   \n",
       "459856  https://www.twitter.com/user/status/1616242414...           0   \n",
       "459857  https://www.twitter.com/user/status/1616238693...           0   \n",
       "459858  https://www.twitter.com/user/status/1616236859...           0   \n",
       "\n",
       "                                complex_lemmatized_column  Unnamed: 0  \\\n",
       "0       RT @ davenewworld_2 : 4 white supremacist in W...         NaN   \n",
       "1       The US directly target all economic sector in ...         NaN   \n",
       "2       @ mccnshyne @ akitoshinonome Not really an oto...         NaN   \n",
       "3       Every aspect of life in # Yemen be target by t...         NaN   \n",
       "4       RT @ davenewworld_2 : 4 white supremacist in W...         NaN   \n",
       "...                                                   ...         ...   \n",
       "459854  The misery In society For raise the bad misera...    458789.0   \n",
       "459855  RT @ inspopageant : Hit the Point/ In the Clos...    458852.0   \n",
       "459856  RT @ inspopageant : Hit the Point/ In the Clos...    458938.0   \n",
       "459857  RT @ inspopageant : Hit the Point/ In the Clos...    459036.0   \n",
       "459858  @ Buruhpemda this do not demand that LPDP open...    459095.0   \n",
       "\n",
       "                                               Translated Sentiment  \\\n",
       "0                                                     NaN  negative   \n",
       "1                                                     NaN  negative   \n",
       "2                                                     NaN  positive   \n",
       "3                                                     NaN   neutral   \n",
       "4                                                     NaN  negative   \n",
       "...                                                   ...       ...   \n",
       "459854  The miseries\\nIn society\\nFor raising the bad ...  negative   \n",
       "459855  RT @inspopageant: Hit the Point/\\n\\nIn the Clo...  positive   \n",
       "459856  RT @inspopageant: Hit the Point/\\n\\nIn the Clo...  positive   \n",
       "459857  RT @inspopageant: Hit the Point/\\n\\nIn the Clo...  positive   \n",
       "459858  @Buruhpemda this does not demand that LPDP ope...  positive   \n",
       "\n",
       "        Sentiment_Level  NegativeRatio  TweetsCount  AvgSentimentLevel  Threat  \n",
       "0               -0.8860       0.750000          4.0          -0.564225     Red  \n",
       "1               -0.0516       0.666667          3.0          -0.289633     Red  \n",
       "2                0.1875       0.000000          1.0           0.187500  Yellow  \n",
       "3                0.0382       0.000000          2.0           0.155700  Yellow  \n",
       "4               -0.8860       0.461538         13.0           0.000477  Yellow  \n",
       "...                 ...            ...          ...                ...     ...  \n",
       "459854          -0.9035       0.666667          6.0          -0.339017     Red  \n",
       "459855           0.5859       0.000000          1.0           0.585900   Green  \n",
       "459856           0.5859       0.000000          1.0           0.585900   Green  \n",
       "459857           0.5859       0.000000          1.0           0.585900   Green  \n",
       "459858           0.0951       0.000000          1.0           0.095100  Yellow  \n",
       "\n",
       "[459859 rows x 15 columns]"
      ]
     },
     "execution_count": 203,
     "metadata": {},
     "output_type": "execute_result"
    }
   ],
   "source": [
    "df"
   ]
  },
  {
   "cell_type": "code",
   "execution_count": 205,
   "metadata": {},
   "outputs": [
    {
     "data": {
      "image/png": "[encoded data removed]",
      "text/plain": [
       "<Figure size 432x288 with 1 Axes>"
      ]
     },
     "metadata": {
      "needs_background": "light"
     },
     "output_type": "display_data"
    }
   ],
   "source": [
    "# Create a histogram\n",
    "plt.hist(df['Sentiment_Level'], bins=20, color='blue', edgecolor='black')\n",
    "\n",
    "# Customize the plot\n",
    "plt.title('Sentiment Histogram')\n",
    "plt.xlabel('Sentiment Level')\n",
    "plt.ylabel('Frequency')\n",
    "\n",
    "# Show the plot\n",
    "plt.show()"
   ]
  },
  {
   "cell_type": "code",
   "execution_count": 206,
   "metadata": {},
   "outputs": [
    {
     "data": {
      "text/plain": [
       "(-1.1, 1.1)"
      ]
     },
     "execution_count": 206,
     "metadata": {},
     "output_type": "execute_result"
    },
    {
     "data": {
      "image/png": "[encoded data removed]",
      "text/plain": [
       "<Figure size 432x288 with 1 Axes>"
      ]
     },
     "metadata": {
      "needs_background": "light"
     },
     "output_type": "display_data"
    }
   ],
   "source": [
    "##Data Frame where duplicate tweets of Users are dropped\n",
    "no_dupes_df = df.drop_duplicates(subset='User')\n",
    "\n",
    "# BoxPlot of distribution of Avg sentiment values based on Threat Level\n",
    "green = []\n",
    "yellow = []\n",
    "red = []\n",
    "\n",
    "for index, row in no_dupes_df.iterrows():\n",
    "    if row['Threat'] == \"Red\":\n",
    "        red.append(row['AvgSentimentLevel'])\n",
    "    elif row['Threat'] == \"Yellow\":\n",
    "        yellow.append(row['AvgSentimentLevel'])\n",
    "    elif row['Threat'] == \"Green\":\n",
    "        green.append(row['AvgSentimentLevel'])\n",
    "\n",
    "df1 = pd.DataFrame(list(zip(green, yellow, red)), columns=[\"Green\", \"Yellow\", \"Red\"])\n",
    "boxplot = df1.boxplot(column=[\"Green\", \"Yellow\", \"Red\"])\n",
    "boxplot.set_ylabel('Avg Sentiment Value')\n",
    "boxplot.set_xlabel('Threat Level')\n",
    "boxplot.set_ylim(-1.1, 1.1)"
   ]
  },
  {
   "cell_type": "code",
   "execution_count": 207,
   "metadata": {},
   "outputs": [
    {
     "data": {
      "text/plain": [
       "(count    60897.000000\n",
       " mean        -0.590065\n",
       " std          0.211962\n",
       " min         -0.991250\n",
       " 25%         -0.750600\n",
       " 50%         -0.599400\n",
       " 75%         -0.405043\n",
       " max         -0.200025\n",
       " Name: Red, dtype: float64,\n",
       " count    60897.000000\n",
       " mean         0.568211\n",
       " std          0.210585\n",
       " min          0.200000\n",
       " 25%          0.400300\n",
       " 50%          0.557400\n",
       " 75%          0.753600\n",
       " max          0.988000\n",
       " Name: Green, dtype: float64,\n",
       " count    60896.000000\n",
       " mean        -0.007245\n",
       " std          0.100135\n",
       " min         -0.373757\n",
       " 25%         -0.066500\n",
       " 50%          0.000000\n",
       " 75%          0.025800\n",
       " max          0.456650\n",
       " Name: Yellow, dtype: float64)"
      ]
     },
     "execution_count": 207,
     "metadata": {},
     "output_type": "execute_result"
    }
   ],
   "source": [
    "##Descriptive Statistics for Threats\n",
    "\n",
    "df1[\"Red\"].describe(), df1[\"Green\"].describe(), df1[\"Yellow\"].describe()"
   ]
  },
  {
   "cell_type": "code",
   "execution_count": 208,
   "metadata": {},
   "outputs": [
    {
     "data": {
      "text/plain": [
       "<AxesSubplot:xlabel='Sentiment', ylabel='Sentiment Value'>"
      ]
     },
     "execution_count": 208,
     "metadata": {},
     "output_type": "execute_result"
    },
    {
     "data": {
      "image/png": "[encoded data removed]",
      "text/plain": [
       "<Figure size 432x288 with 1 Axes>"
      ]
     },
     "metadata": {
      "needs_background": "light"
     },
     "output_type": "display_data"
    }
   ],
   "source": [
    "##BoxPlot of distribution of sentiment values\n",
    "positive = []\n",
    "negative = []\n",
    "neutral = []\n",
    "\n",
    "\n",
    "for i in range(len(df.Sentiment_Level)):\n",
    "    if df.Sentiment[i] == \"positive\":\n",
    "        positive.append(df.Sentiment_Level[i])\n",
    "    if df.Sentiment[i] == \"negative\":\n",
    "        negative.append(df.Sentiment_Level[i])\n",
    "    if df.Sentiment[i] == \"neutral\":\n",
    "        neutral.append(df.Sentiment_Level[i])\n",
    "\n",
    "\n",
    "df1 = pd.DataFrame(list(zip(positive, negative, neutral)), columns= [\"Positive\", \"Negative\", \"Neutral\"])\n",
    "boxplot = df1.boxplot(column=[\"Positive\", \"Negative\", \"Neutral\"])\n",
    "boxplot.set_ylabel('Sentiment Value')\n",
    "boxplot.set_xlabel('Sentiment')\n",
    "boxplot.set_ylim(-1.1, 1.1)\n",
    "boxplot\n",
    "\n"
   ]
  },
  {
   "cell_type": "code",
   "execution_count": 209,
   "metadata": {},
   "outputs": [
    {
     "data": {
      "text/plain": [
       "(count    57388.000000\n",
       " mean         0.538291\n",
       " std          0.249312\n",
       " min          0.050000\n",
       " 25%          0.340000\n",
       " 50%          0.540250\n",
       " 75%          0.764575\n",
       " max          0.986300\n",
       " Name: Positive, dtype: float64,\n",
       " count    57388.000000\n",
       " mean        -0.604124\n",
       " std          0.254536\n",
       " min         -0.989500\n",
       " 25%         -0.807400\n",
       " 50%         -0.685800\n",
       " 75%         -0.416800\n",
       " max         -0.050100\n",
       " Name: Negative, dtype: float64,\n",
       " count    57388.000000\n",
       " mean        -0.000142\n",
       " std          0.009754\n",
       " min         -0.049800\n",
       " 25%          0.000000\n",
       " 50%          0.000000\n",
       " 75%          0.000000\n",
       " max          0.049800\n",
       " Name: Neutral, dtype: float64)"
      ]
     },
     "execution_count": 209,
     "metadata": {},
     "output_type": "execute_result"
    }
   ],
   "source": [
    "##Descriptive Statistics for Sentiments\n",
    "\n",
    "df1[\"Positive\"].describe(), df1[\"Negative\"].describe(), df1[\"Neutral\"].describe()"
   ]
  },
  {
   "cell_type": "code",
   "execution_count": 210,
   "metadata": {},
   "outputs": [
    {
     "data": {
      "image/png": "[encoded data removed]",
      "text/plain": [
       "<Figure size 576x432 with 2 Axes>"
      ]
     },
     "metadata": {
      "needs_background": "light"
     },
     "output_type": "display_data"
    }
   ],
   "source": [
    "#################\n",
    "df_sorted = df.sort_values(by='Sentiment_Level', ascending=False)\n",
    "\n",
    "# Count the occurrences of each sentiment level\n",
    "sentiment_counts = df['Sentiment'].value_counts().reset_index()\n",
    "\n",
    "# Rename the columns for clarity\n",
    "sentiment_counts.columns = ['Sentiment', 'Count']\n",
    "\n",
    "# Create a pivot table for the heatmap\n",
    "heatmap_data = sentiment_counts.pivot_table(index='Sentiment', values='Count', aggfunc='sum').fillna(0)\n",
    "\n",
    "# Create a heatmap using seaborn number of occurances of each sentiment level\n",
    "plt.figure(figsize=(8, 6))\n",
    "sns.heatmap(heatmap_data, annot=True, cmap='YlGnBu', fmt='g', cbar_kws={'label': 'Count'})\n",
    "plt.title('Sentiment Heatmap')\n",
    "plt.show()"
   ]
  },
  {
   "cell_type": "code",
   "execution_count": 185,
   "metadata": {},
   "outputs": [],
   "source": [
    "######Explanation for identical tweets is users retweeting things."
   ]
  },
  {
   "cell_type": "code",
   "execution_count": 212,
   "metadata": {},
   "outputs": [],
   "source": [
    "df_lowest_sentiment = df.nsmallest(40, 'Sentiment_Level')\n",
    "\n",
    "# Join the selected tweets into a single string\n",
    "tweets = ' '.join(df_lowest_sentiment['complex_lemmatized_column'])"
   ]
  },
  {
   "cell_type": "code",
   "execution_count": 225,
   "metadata": {},
   "outputs": [
    {
     "data": {
      "text/plain": [
       "'peterpsquare peterobi worst hate come form smiling hate hate mean hate hate envious hate xenophobic hate jungleprimitivity hate dispersed hate hate africa co ja targeted hate green passport hate etc vote labour party lp peterpsquare peterobi worst hate come form smiling hate hate mean hate hate envious hate xenophobic hate jungleprimitivity hate dispersed hate hate africa co ja targeted hate green passport hate etc vote labour party lp peterpsquare peterobi worst hate come form smiling hate hate mean hate hate envious hate xenophobic hate jungleprimitivity hate dispersed hate hate africa co ja targeted hate green passport hate etc vote labour party lp nothing hostility violence headline blatantly antiisraeli ignore targeted leave dead victimize perpetrator ashamed  particular think scary torture kill severe disability aii program mental weapon organizational etcthere also back riding think japanese country weird sentence death execution method hanging torture prison prohibit penalty even dog cat public health center kill gas room try push shit fucking day truth bitches staying thing targeted everyday every time shit  done ignorant good motherfucking bitches hatred persists lead outcome self harm target violence must call cut brain rot lead death pain enough un nrm ntarahamwe evil terrorist group asiya long time targeted internal organs everybody dont ever think asiya got sick intentionally lady nt even needle could harm anyone  year ago london family murder hateful bigot target  kill simply muslim hatred hate kill expressions hatred  direct group include muslims abhorrent   dear activist wo nt accept nonbinary identity man target gay club force us refer men hate target rape kill woman woman abusive hypocrite hate everything stand wo nt rest movement destroy  un nrm ntarahamwe evil terrorist group asiya long time targeted internal organs everybody dont ever think asiya got sick intentionally  murder brutality never okay ever find offensive statsaside obvious target hate divide category dead dead murder murder someone shoot nt color stalk target terrorist insult idiot mess moron  fuck big pharma whore stab mother back spare nickel allout war yet kneedeep bread  circus stalk target terrorist insult idiot mess moron  fuck big pharma whore stab mother back spare nickel allout war yet kneedeep bread  circus stalk target terrorist insult idiot mess moron  fuck big pharma whore stab mother back spare nickel allout war yet kneedeep bread  circus stalk target terrorist insult idiot mess moron  fuck big pharma whore stab mother back spare nickel allout war yet kneedeep bread  circus stalk target terrorist insult idiot mess moron  fuck big pharma whore stab mother back spare nickel allout war yet kneedeep bread  circus stalk target terrorist insult idiot mess moron  fuck big pharma whore stab mother back spare nickel allout war yet kneedeep bread  circus stalk target terrorist insult idiot mess moron  fuck big pharma whore stab mother back spare nickel allout war yet kneedeep bread  circus stalk target terrorist insult idiot mess moron  fuck big pharma whore stab mother back spare nickel allout war yet kneedeep bread  circus try stop election district apparently thoroughly gop target campaign antilgbtq hate shame venal republicans terrorism mean hold power hell retiredjudean ericrathorn kevinadiamond  ronisonit betaljuice  boomerangtime karmoremes truthtopeace  ronsonit nkippur ireneminkema  adl jack twittersupport terrorists target israeli civilian murder idf never target civilian murder civilian fight terrorists operate area damage support terrorism retiredjudean ericrathorn kevinadiamond  ronisonit betaljuice  boomerangtime karmoremes truthtopeace  ronsonit nkippur ireneminkema  adl jack twittersupport terrorists target israeli civilian murder idf never target civilian murder civilian fight terrorists operate area damage support terrorism retiredjudean ericrathorn kevinadiamond  ronisonit betaljuice  boomerangtime karmoremes truthtopeace  ronsonit nkippur ireneminkema  adl jack twittersupport terrorists target israeli civilian murder idf never target civilian murder civilian fight terrorists operate area damage support terrorism ericrathorn kevinadiamond  ronisonit betaljuice  boomerangtime karmoremes truthtopeace  ronsonit nkippur ireneminkema  adl jack twittersupport terrorists target israeli civilian murder idf never target civilian murder civilian fight terrorists operate area damage support terrorism death life normal intentional death systematic death organized death targeted death planned death depriving death ethiopia killing tigray  conspiracy writ large conspiracy kill target trap  secretly drug isolate  last brutally murder mastermind cbi expose culprit doptgoi   conspiracy writ large conspiracy kill target trap  secretly drug isolate  last brutally murder mastermind cbi expose culprit doptgoi   conspiracy writ large conspiracy kill target trap  secretly drug isolate  last brutally murder mastermind cbi expose culprit doptgoi   conspiracy writ large conspiracy kill target trap  secretly drug isolate  last brutally murder mastermind cbi expose culprit doptgoi   conspiracy writ large conspiracy kill target trap  secretly drug isolate  last brutally murder mastermind cbi expose culprit doptgoi   conspiracy writ large conspiracy kill target trap  secretly drug isolate  last brutally murder mastermind cbi expose culprit doptgoi   conspiracy writ large conspiracy kill target trap  secretly drug isolate  last brutally murder mastermind cbi expose culprit doptgoi   conspiracy writ large conspiracy kill target trap  secretly drug isolate  last brutally murder mastermind cbi expose culprit doptgoi   conspiracy writ large conspiracy kill target trap  secretly drug isolate  last brutally murder mastermind cbi expose culprit doptgoi   conspiracy writ large conspiracy kill target trap  secretly drug isolate  last brutally murder mastermind cbi expose culprit doptgoi   conspiracy writ large conspiracy kill target trap  secretly drug isolate  last brutally murder mastermind cbi expose culprit doptgoi   conspiracy writ large conspiracy kill target trap  secretly drug isolate  last brutally murder mastermind cbi expose culprit doptgoi   conspiracy writ large conspiracy kill target trap  secretly drug isolate  last brutally murder mastermind cbi expose culprit doptgoi   conspiracy writ large conspiracy kill target trap  secretly drug isolate  last brutally murder mastermind cbi expose culprit doptgoi '"
      ]
     },
     "execution_count": 225,
     "metadata": {},
     "output_type": "execute_result"
    }
   ],
   "source": [
    "#Clean top 40 most negative tweets for heatmap\n",
    "\n",
    "# Preprocess the text (remove stopwords, convert to lowercase)\n",
    "stop_words = set(stopwords.words('english'))\n",
    "processed_text = ' '.join([word.lower() for word in tweets.split() if word.lower() not in stop_words])\n",
    "\n",
    "def is_english(text):\n",
    "    # Detect language using langid\n",
    "    lang, _ = langid.classify(text)\n",
    "    return lang == 'en'\n",
    "\n",
    "def preprocess_text(text):\n",
    "    # Remove hyperlinks\n",
    "    text = re.sub(r'https?://\\S+', '', text)\n",
    "\n",
    "    # Remove strings starting with \"#\"\n",
    "    text = re.sub(r'#\\w+', '', text)\n",
    "\n",
    "    # Remove strings starting with \"@\"\n",
    "    text = re.sub(r'@\\w+', '', text)\n",
    "\n",
    "    # Remove \"rt\" (retweets)\n",
    "    text = re.sub(r'\\bRT\\b', '', text, flags=re.IGNORECASE)\n",
    "\n",
    "    # Remove strings that start with \"$\"\n",
    "    text = re.sub(r'$\\w+', '', text)\n",
    "\n",
    "    # Remove special characters\n",
    "    text = re.sub(r'[^\\w\\s]', '', text)\n",
    "\n",
    "    # Remove non-English text\n",
    "    english_text = ' '.join([word for word in text.split() if is_english(word)])\n",
    "    \n",
    "    # Remove strings ending with \":\"\n",
    "    cleaned_text = re.sub(r'\\b\\w+:\\b', '', english_text)\n",
    "    \n",
    "    # Remove non-words\n",
    "    cleaned_text = re.sub(r'\\W', ' ', cleaned_text)\n",
    "    \n",
    "    cleaned_text = re.sub(r'\\W|\\d|\\b\\w*\\d\\w*\\b', ' ', cleaned_text)\n",
    "    \n",
    "    # Tokenize the text\n",
    "    tokens = word_tokenize(cleaned_text)\n",
    "    \n",
    "    # Remove stopwords and proper nouns\n",
    "    stop_words = set(stopwords.words('english'))\n",
    "    tagged_tokens = pos_tag(tokens)\n",
    "    \n",
    "    filtered_tokens = [word for word, pos in tagged_tokens if word.lower() not in stop_words and pos != 'NNP']\n",
    "    \n",
    "    # Join the tokens back into a string\n",
    "    cleaned_text = ' '.join(filtered_tokens)\n",
    "    \n",
    "    cleaned_text = re.sub(r'\\d+', '', cleaned_text)\n",
    "    \n",
    "    # Remove words containing numbers\n",
    "    cleaned_text = ' '.join(word for word in cleaned_text.split() if not any(char.isdigit() for char in word))\n",
    "    cleaned_text = cleaned_text.replace(\"http\", \"\")\n",
    "    \n",
    "    cleaned_text = re.sub(r'http\\S+|\\bamp\\b', '', cleaned_text)\n",
    "    \n",
    "    cleaned_text = re.sub(r'\\b\\w*_\\w*\\b|\\b\\w\\b', '', cleaned_text)\n",
    "    \n",
    "    return cleaned_text\n",
    "\n",
    "cleaned_text = preprocess_text(processed_text)"
   ]
  },
  {
   "cell_type": "code",
   "execution_count": 226,
   "metadata": {},
   "outputs": [
    {
     "data": {
      "image/png": "[encoded data removed]",
      "text/plain": [
       "<Figure size 720x360 with 1 Axes>"
      ]
     },
     "metadata": {
      "needs_background": "light"
     },
     "output_type": "display_data"
    }
   ],
   "source": [
    "#HeatMap of 20 most frequenct words in the 40 most negative tweets.\n",
    "\n",
    "\n",
    "# Tokenize the text and calculate word frequencies\n",
    "words = cleaned_text.lower().split()\n",
    "word_counts = Counter(words)\n",
    "\n",
    "# Convert word frequencies to a DataFrame for seaborn\n",
    "data = {'Word': list(word_counts.keys()), 'Frequency': list(word_counts.values())}\n",
    "df2 = pd.DataFrame(data)\n",
    "\n",
    "# Select the top 20 words\n",
    "df_top20 = df2.nlargest(20, 'Frequency')\n",
    "\n",
    "# Create a heatmap for the top 20 words\n",
    "plt.figure(figsize=(10, 5))\n",
    "sns.heatmap(df_top20[['Frequency']], annot=True, fmt='d', cmap='Blues', cbar=False, yticklabels=df_top20['Word'])\n",
    "plt.xlabel('Frequency')\n",
    "plt.title('Top 20 Word Frequency Heatmap')\n",
    "plt.show()\n",
    "\n",
    "#cbi - Central Bureau of Investigation (CBI) is the domestic crime investigating agency of India\n",
    "#writ - is an order from a higher court to a lower court or to a governmental official,\n",
    "#DOTGOI, Department of Tourism, Government of India"
   ]
  },
  {
   "cell_type": "code",
   "execution_count": 85,
   "metadata": {},
   "outputs": [
    {
     "ename": "ValueError",
     "evalue": "Only supported for TrueType fonts",
     "output_type": "error",
     "traceback": [
      "\u001b[0;31m---------------------------------------------------------------------------\u001b[0m",
      "\u001b[0;31mValueError\u001b[0m                                Traceback (most recent call last)",
      "\u001b[0;32m/var/folders/2w/pbh6766n275g_0dzz76kp5sc0000gn/T/ipykernel_5031/3344666387.py\u001b[0m in \u001b[0;36m<module>\u001b[0;34m\u001b[0m\n\u001b[1;32m      1\u001b[0m \u001b[0;31m################\u001b[0m\u001b[0;34m\u001b[0m\u001b[0;34m\u001b[0m\u001b[0m\n\u001b[1;32m      2\u001b[0m \u001b[0;31m# Create a WordCloud\u001b[0m\u001b[0;34m\u001b[0m\u001b[0;34m\u001b[0m\u001b[0m\n\u001b[0;32m----> 3\u001b[0;31m \u001b[0mwordcloud\u001b[0m \u001b[0;34m=\u001b[0m \u001b[0mWordCloud\u001b[0m\u001b[0;34m(\u001b[0m\u001b[0mwidth\u001b[0m\u001b[0;34m=\u001b[0m\u001b[0;36m800\u001b[0m\u001b[0;34m,\u001b[0m \u001b[0mheight\u001b[0m\u001b[0;34m=\u001b[0m\u001b[0;36m400\u001b[0m\u001b[0;34m,\u001b[0m \u001b[0mbackground_color\u001b[0m\u001b[0;34m=\u001b[0m\u001b[0;34m'white'\u001b[0m\u001b[0;34m)\u001b[0m\u001b[0;34m.\u001b[0m\u001b[0mgenerate\u001b[0m\u001b[0;34m(\u001b[0m\u001b[0mcleaned_text\u001b[0m\u001b[0;34m)\u001b[0m\u001b[0;34m\u001b[0m\u001b[0;34m\u001b[0m\u001b[0m\n\u001b[0m\u001b[1;32m      4\u001b[0m \u001b[0;34m\u001b[0m\u001b[0m\n\u001b[1;32m      5\u001b[0m \u001b[0;31m# Convert the WordCloud to DataFrame\u001b[0m\u001b[0;34m\u001b[0m\u001b[0;34m\u001b[0m\u001b[0m\n",
      "\u001b[0;32m~/opt/anaconda3/lib/python3.9/site-packages/wordcloud/wordcloud.py\u001b[0m in \u001b[0;36mgenerate\u001b[0;34m(self, text)\u001b[0m\n\u001b[1;32m    637\u001b[0m         \u001b[0mself\u001b[0m\u001b[0;34m\u001b[0m\u001b[0;34m\u001b[0m\u001b[0m\n\u001b[1;32m    638\u001b[0m         \"\"\"\n\u001b[0;32m--> 639\u001b[0;31m         \u001b[0;32mreturn\u001b[0m \u001b[0mself\u001b[0m\u001b[0;34m.\u001b[0m\u001b[0mgenerate_from_text\u001b[0m\u001b[0;34m(\u001b[0m\u001b[0mtext\u001b[0m\u001b[0;34m)\u001b[0m\u001b[0;34m\u001b[0m\u001b[0;34m\u001b[0m\u001b[0m\n\u001b[0m\u001b[1;32m    640\u001b[0m \u001b[0;34m\u001b[0m\u001b[0m\n\u001b[1;32m    641\u001b[0m     \u001b[0;32mdef\u001b[0m \u001b[0m_check_generated\u001b[0m\u001b[0;34m(\u001b[0m\u001b[0mself\u001b[0m\u001b[0;34m)\u001b[0m\u001b[0;34m:\u001b[0m\u001b[0;34m\u001b[0m\u001b[0;34m\u001b[0m\u001b[0m\n",
      "\u001b[0;32m~/opt/anaconda3/lib/python3.9/site-packages/wordcloud/wordcloud.py\u001b[0m in \u001b[0;36mgenerate_from_text\u001b[0;34m(self, text)\u001b[0m\n\u001b[1;32m    619\u001b[0m         \"\"\"\n\u001b[1;32m    620\u001b[0m         \u001b[0mwords\u001b[0m \u001b[0;34m=\u001b[0m \u001b[0mself\u001b[0m\u001b[0;34m.\u001b[0m\u001b[0mprocess_text\u001b[0m\u001b[0;34m(\u001b[0m\u001b[0mtext\u001b[0m\u001b[0;34m)\u001b[0m\u001b[0;34m\u001b[0m\u001b[0;34m\u001b[0m\u001b[0m\n\u001b[0;32m--> 621\u001b[0;31m         \u001b[0mself\u001b[0m\u001b[0;34m.\u001b[0m\u001b[0mgenerate_from_frequencies\u001b[0m\u001b[0;34m(\u001b[0m\u001b[0mwords\u001b[0m\u001b[0;34m)\u001b[0m\u001b[0;34m\u001b[0m\u001b[0;34m\u001b[0m\u001b[0m\n\u001b[0m\u001b[1;32m    622\u001b[0m         \u001b[0;32mreturn\u001b[0m \u001b[0mself\u001b[0m\u001b[0;34m\u001b[0m\u001b[0;34m\u001b[0m\u001b[0m\n\u001b[1;32m    623\u001b[0m \u001b[0;34m\u001b[0m\u001b[0m\n",
      "\u001b[0;32m~/opt/anaconda3/lib/python3.9/site-packages/wordcloud/wordcloud.py\u001b[0m in \u001b[0;36mgenerate_from_frequencies\u001b[0;34m(self, frequencies, max_font_size)\u001b[0m\n\u001b[1;32m    451\u001b[0m                 \u001b[0mfont_size\u001b[0m \u001b[0;34m=\u001b[0m \u001b[0mself\u001b[0m\u001b[0;34m.\u001b[0m\u001b[0mheight\u001b[0m\u001b[0;34m\u001b[0m\u001b[0;34m\u001b[0m\u001b[0m\n\u001b[1;32m    452\u001b[0m             \u001b[0;32melse\u001b[0m\u001b[0;34m:\u001b[0m\u001b[0;34m\u001b[0m\u001b[0;34m\u001b[0m\u001b[0m\n\u001b[0;32m--> 453\u001b[0;31m                 self.generate_from_frequencies(dict(frequencies[:2]),\n\u001b[0m\u001b[1;32m    454\u001b[0m                                                max_font_size=self.height)\n\u001b[1;32m    455\u001b[0m                 \u001b[0;31m# find font sizes\u001b[0m\u001b[0;34m\u001b[0m\u001b[0;34m\u001b[0m\u001b[0m\n",
      "\u001b[0;32m~/opt/anaconda3/lib/python3.9/site-packages/wordcloud/wordcloud.py\u001b[0m in \u001b[0;36mgenerate_from_frequencies\u001b[0;34m(self, frequencies, max_font_size)\u001b[0m\n\u001b[1;32m    506\u001b[0m                     font, orientation=orientation)\n\u001b[1;32m    507\u001b[0m                 \u001b[0;31m# get size of resulting text\u001b[0m\u001b[0;34m\u001b[0m\u001b[0;34m\u001b[0m\u001b[0m\n\u001b[0;32m--> 508\u001b[0;31m                 \u001b[0mbox_size\u001b[0m \u001b[0;34m=\u001b[0m \u001b[0mdraw\u001b[0m\u001b[0;34m.\u001b[0m\u001b[0mtextbbox\u001b[0m\u001b[0;34m(\u001b[0m\u001b[0;34m(\u001b[0m\u001b[0;36m0\u001b[0m\u001b[0;34m,\u001b[0m \u001b[0;36m0\u001b[0m\u001b[0;34m)\u001b[0m\u001b[0;34m,\u001b[0m \u001b[0mword\u001b[0m\u001b[0;34m,\u001b[0m \u001b[0mfont\u001b[0m\u001b[0;34m=\u001b[0m\u001b[0mtransposed_font\u001b[0m\u001b[0;34m,\u001b[0m \u001b[0manchor\u001b[0m\u001b[0;34m=\u001b[0m\u001b[0;34m\"lt\"\u001b[0m\u001b[0;34m)\u001b[0m\u001b[0;34m\u001b[0m\u001b[0;34m\u001b[0m\u001b[0m\n\u001b[0m\u001b[1;32m    509\u001b[0m                 \u001b[0;31m# find possible places using integral image:\u001b[0m\u001b[0;34m\u001b[0m\u001b[0;34m\u001b[0m\u001b[0m\n\u001b[1;32m    510\u001b[0m                 result = occupancy.sample_position(box_size[3] + self.margin,\n",
      "\u001b[0;32m~/opt/anaconda3/lib/python3.9/site-packages/PIL/ImageDraw.py\u001b[0m in \u001b[0;36mtextbbox\u001b[0;34m(self, xy, text, font, anchor, spacing, align, direction, features, language, stroke_width, embedded_color)\u001b[0m\n\u001b[1;32m    649\u001b[0m             \u001b[0mfont\u001b[0m \u001b[0;34m=\u001b[0m \u001b[0mself\u001b[0m\u001b[0;34m.\u001b[0m\u001b[0mgetfont\u001b[0m\u001b[0;34m(\u001b[0m\u001b[0;34m)\u001b[0m\u001b[0;34m\u001b[0m\u001b[0;34m\u001b[0m\u001b[0m\n\u001b[1;32m    650\u001b[0m         \u001b[0;32mif\u001b[0m \u001b[0;32mnot\u001b[0m \u001b[0misinstance\u001b[0m\u001b[0;34m(\u001b[0m\u001b[0mfont\u001b[0m\u001b[0;34m,\u001b[0m \u001b[0mImageFont\u001b[0m\u001b[0;34m.\u001b[0m\u001b[0mFreeTypeFont\u001b[0m\u001b[0;34m)\u001b[0m\u001b[0;34m:\u001b[0m\u001b[0;34m\u001b[0m\u001b[0;34m\u001b[0m\u001b[0m\n\u001b[0;32m--> 651\u001b[0;31m             \u001b[0;32mraise\u001b[0m \u001b[0mValueError\u001b[0m\u001b[0;34m(\u001b[0m\u001b[0;34m\"Only supported for TrueType fonts\"\u001b[0m\u001b[0;34m)\u001b[0m\u001b[0;34m\u001b[0m\u001b[0;34m\u001b[0m\u001b[0m\n\u001b[0m\u001b[1;32m    652\u001b[0m         \u001b[0mmode\u001b[0m \u001b[0;34m=\u001b[0m \u001b[0;34m\"RGBA\"\u001b[0m \u001b[0;32mif\u001b[0m \u001b[0membedded_color\u001b[0m \u001b[0;32melse\u001b[0m \u001b[0mself\u001b[0m\u001b[0;34m.\u001b[0m\u001b[0mfontmode\u001b[0m\u001b[0;34m\u001b[0m\u001b[0;34m\u001b[0m\u001b[0m\n\u001b[1;32m    653\u001b[0m         bbox = font.getbbox(\n",
      "\u001b[0;31mValueError\u001b[0m: Only supported for TrueType fonts"
     ]
    }
   ],
   "source": [
    "#Word Cloud of most common words for 20 most negative users(Potential Threats)\n",
    "# Create a WordCloud\n",
    "wordcloud = WordCloud(width=800, height=400, background_color='white').generate(cleaned_text)\n",
    "\n",
    "# Convert the WordCloud to DataFrame\n",
    "wordcloud_df = pd.DataFrame(wordcloud.words_.items(), columns=['Word', 'Frequency'])\n",
    "\n",
    "# Create a heatmap using seaborn\n",
    "plt.figure(figsize=(10, 8))\n",
    "heatmap_data = wordcloud_df.pivot(index=None, columns='Word', values='Frequency').fillna(0)\n",
    "sns.heatmap(heatmap_data, cmap='YlGnBu', annot=True, cbar_kws={'label': 'Frequency'})\n",
    "plt.title('Top 20 Most Occurring Words in Tweet Column')\n",
    "plt.show()\\"
   ]
  },
  {
   "cell_type": "code",
   "execution_count": 6,
   "metadata": {},
   "outputs": [],
   "source": [
    "# Separate our data into features and labels\n",
    "features = df.iloc[:, 6].values\n",
    "labels = df.iloc[:, 9].values"
   ]
  },
  {
   "cell_type": "code",
   "execution_count": 7,
   "metadata": {},
   "outputs": [],
   "source": [
    "from nltk.corpus import stopwords\n",
    "from sklearn.feature_extraction.text import TfidfVectorizer\n",
    "\n",
    "# Set max_df to 0.95 to exclude \"targeted\" since its in every tweet \n",
    "vectorizer = TfidfVectorizer(max_features=5000, min_df=7, max_df=0.95, stop_words=stopwords.words('english'))\n",
    "processed_features = vectorizer.fit_transform(features).toarray()"
   ]
  },
  {
   "cell_type": "code",
   "execution_count": 8,
   "metadata": {},
   "outputs": [],
   "source": [
    "from sklearn.model_selection import train_test_split\n",
    "from scipy.sparse import csr_matrix\n",
    "\n",
    "sparse_features = csr_matrix(processed_features)\n",
    "# Split our data into testing and training data, with our X data being the\n",
    "# processed_features (translated/lemmatized tweets), and Y being our labels (sentiment)\n",
    "X_train, X_test, y_train, y_test = train_test_split(sparse_features, labels, test_size=0.2, random_state=0)"
   ]
  },
  {
   "cell_type": "code",
   "execution_count": 9,
   "metadata": {},
   "outputs": [
    {
     "data": {
      "text/plain": [
       "RandomForestClassifier(n_jobs=-1, random_state=0)"
      ]
     },
     "execution_count": 9,
     "metadata": {},
     "output_type": "execute_result"
    }
   ],
   "source": [
    "from sklearn.ensemble import RandomForestClassifier\n",
    "\n",
    "# Roughly 13 minutes to run\n",
    "# Use the random forest classifier, train our model using the X and Y training sets\n",
    "text_classifier = RandomForestClassifier(n_estimators=100, random_state=0, n_jobs=-1)\n",
    "text_classifier.fit(X_train, y_train)"
   ]
  },
  {
   "cell_type": "code",
   "execution_count": 10,
   "metadata": {},
   "outputs": [],
   "source": [
    "# Use the predict function on the X testing data\n",
    "predictions = text_classifier.predict(X_test)"
   ]
  },
  {
   "cell_type": "code",
   "execution_count": 11,
   "metadata": {},
   "outputs": [
    {
     "name": "stdout",
     "output_type": "stream",
     "text": [
      "              precision    recall  f1-score   support\n",
      "\n",
      "    negative       0.93      0.95      0.94     50648\n",
      "     neutral       0.89      0.85      0.87     11590\n",
      "    positive       0.93      0.90      0.91     29734\n",
      "\n",
      "    accuracy                           0.92     91972\n",
      "   macro avg       0.92      0.90      0.91     91972\n",
      "weighted avg       0.92      0.92      0.92     91972\n",
      "\n",
      "Accuracy: 0.9240\n",
      "[[48315   656  1677]\n",
      " [ 1335  9831   424]\n",
      " [ 2390   511 26833]]\n"
     ]
    }
   ],
   "source": [
    "from sklearn.metrics import classification_report, confusion_matrix, accuracy_score\n",
    "# Print our classification report which includes precision, recall, f1-score, and support\n",
    "print(classification_report(y_test,predictions))\n",
    "# print the accuracy score of the model\n",
    "print(f\"Accuracy: {accuracy_score(y_test, predictions):.4f}\")\n",
    "# print the confusion matrix\n",
    "print(confusion_matrix(y_test, predictions))"
   ]
  }
 ],
 "metadata": {
  "kernelspec": {
   "display_name": "Python 3 (ipykernel)",
   "language": "python",
   "name": "python3"
  },
  "language_info": {
   "codemirror_mode": {
    "name": "ipython",
    "version": 3
   },
   "file_extension": ".py",
   "mimetype": "text/x-python",
   "name": "python",
   "nbconvert_exporter": "python",
   "pygments_lexer": "ipython3",
   "version": "3.11.5"
  }
 },
 "nbformat": 4,
 "nbformat_minor": 4
}
