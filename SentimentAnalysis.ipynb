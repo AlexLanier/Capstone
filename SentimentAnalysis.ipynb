{
 "cells": [
  {
   "cell_type": "code",
   "execution_count": 3,
   "metadata": {},
   "outputs": [],
   "source": [
    "import pandas as pd\n",
    "from vaderSentiment.vaderSentiment import SentimentIntensityAnalyzer\n",
    "import numpy as np \n",
    "import re\n",
    "import nltk # <--- Package used for NLP\n",
    "import matplotlib.pyplot as plt\n",
    "%matplotlib inline"
   ]
  },
  {
   "cell_type": "code",
   "execution_count": 4,
   "metadata": {},
   "outputs": [],
   "source": [
    "# ASSIGN SENTIMENT TO A SPECIFIED COLUMN OF OUR DATAFRAME\n",
    "def assign_sentiment(df, text_column):\n",
    "    analyzer = SentimentIntensityAnalyzer()\n",
    "\n",
    "    # store sentiment labels\n",
    "    sentiment_labels = []\n",
    "\n",
    "    # assign sentiment labels\n",
    "    for text in df[text_column]:\n",
    "        sentiment = analyzer.polarity_scores(text)\n",
    "        if sentiment['compound'] >= 0.05:\n",
    "            sentiment_labels.append('positive')\n",
    "        elif sentiment['compound'] <= -0.05:\n",
    "            sentiment_labels.append('negative')\n",
    "        else:\n",
    "            sentiment_labels.append('neutral')\n",
    "\n",
    "    # create a new column of the df with the sentiment labels\n",
    "    df['Sentiment'] = sentiment_labels\n",
    "    return df\n"
   ]
  },
  {
   "cell_type": "code",
   "execution_count": 5,
   "metadata": {},
   "outputs": [],
   "source": [
    "merged_tweets = pd.read_csv(\"merged_df.csv\", low_memory=False)\n",
    "df = assign_sentiment(merged_tweets, 'complex_lemmatized_column')"
   ]
  },
  {
   "cell_type": "code",
   "execution_count": 6,
   "metadata": {},
   "outputs": [],
   "source": [
    "# Separate our data into features and labels\n",
    "features = df.iloc[:, 6].values\n",
    "labels = df.iloc[:, 9].values"
   ]
  },
  {
   "cell_type": "code",
   "execution_count": 7,
   "metadata": {},
   "outputs": [],
   "source": [
    "from nltk.corpus import stopwords\n",
    "from sklearn.feature_extraction.text import TfidfVectorizer\n",
    "\n",
    "# Set max_df to 0.95 to exclude \"targeted\" since its in every tweet \n",
    "vectorizer = TfidfVectorizer(max_features=5000, min_df=7, max_df=0.95, stop_words=stopwords.words('english'))\n",
    "processed_features = vectorizer.fit_transform(features).toarray()"
   ]
  },
  {
   "cell_type": "code",
   "execution_count": 8,
   "metadata": {},
   "outputs": [],
   "source": [
    "from sklearn.model_selection import train_test_split\n",
    "from scipy.sparse import csr_matrix\n",
    "\n",
    "sparse_features = csr_matrix(processed_features)\n",
    "# Split our data into testing and training data, with our X data being the\n",
    "# processed_features (translated/lemmatized tweets), and Y being our labels (sentiment)\n",
    "X_train, X_test, y_train, y_test = train_test_split(sparse_features, labels, test_size=0.2, random_state=0)"
   ]
  },
  {
   "cell_type": "code",
   "execution_count": 9,
   "metadata": {},
   "outputs": [
    {
     "data": {
      "text/plain": [
       "RandomForestClassifier(n_jobs=-1, random_state=0)"
      ]
     },
     "execution_count": 9,
     "metadata": {},
     "output_type": "execute_result"
    }
   ],
   "source": [
    "from sklearn.ensemble import RandomForestClassifier\n",
    "\n",
    "# Roughly 23 minutes to run\n",
    "# Use the random forest classifier, train our model using the X and Y training sets\n",
    "text_classifier = RandomForestClassifier(n_estimators=100, random_state=0, n_jobs=-1)\n",
    "text_classifier.fit(X_train, y_train)"
   ]
  },
  {
   "cell_type": "code",
   "execution_count": 10,
   "metadata": {},
   "outputs": [],
   "source": [
    "# Use the predict function on the X testing data\n",
    "predictions = text_classifier.predict(X_test)"
   ]
  },
  {
   "cell_type": "code",
   "execution_count": 11,
   "metadata": {},
   "outputs": [
    {
     "name": "stdout",
     "output_type": "stream",
     "text": [
      "              precision    recall  f1-score   support\n",
      "\n",
      "    negative       0.93      0.95      0.94     50648\n",
      "     neutral       0.89      0.85      0.87     11590\n",
      "    positive       0.93      0.90      0.91     29734\n",
      "\n",
      "    accuracy                           0.92     91972\n",
      "   macro avg       0.92      0.90      0.91     91972\n",
      "weighted avg       0.92      0.92      0.92     91972\n",
      "\n",
      "Accuracy: 0.9240\n",
      "[[48315   656  1677]\n",
      " [ 1335  9831   424]\n",
      " [ 2390   511 26833]]\n"
     ]
    }
   ],
   "source": [
    "from sklearn.metrics import classification_report, confusion_matrix, accuracy_score\n",
    "# Print our classification report which includes precision, recall, f1-score, and support\n",
    "print(classification_report(y_test,predictions))\n",
    "# print the accuracy score of the model\n",
    "print(f\"Accuracy: {accuracy_score(y_test, predictions):.4f}\")\n",
    "# print the confusion matrix\n",
    "print(confusion_matrix(y_test, predictions))"
   ]
  }
 ],
 "metadata": {
  "kernelspec": {
   "display_name": "Python 3 (ipykernel)",
   "language": "python",
   "name": "python3"
  },
  "language_info": {
   "codemirror_mode": {
    "name": "ipython",
    "version": 3
   },
   "file_extension": ".py",
   "mimetype": "text/x-python",
   "name": "python",
   "nbconvert_exporter": "python",
   "pygments_lexer": "ipython3",
   "version": "3.9.7"
  }
 },
 "nbformat": 4,
 "nbformat_minor": 4
}
